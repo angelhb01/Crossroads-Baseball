{
 "cells": [
  {
   "cell_type": "code",
   "execution_count": 1,
   "id": "38cec90b-4e33-4e28-a478-1cf939081b0a",
   "metadata": {
    "editable": true,
    "slideshow": {
     "slide_type": "slide"
    },
    "tags": []
   },
   "outputs": [],
   "source": [
    "import pandas as pd\n",
    "from bs4 import BeautifulSoup\n",
    "import requests\n",
    "from datetime import datetime\n",
    "import re"
   ]
  },
  {
   "cell_type": "code",
   "execution_count": 9,
   "id": "082aaf2b-cbe9-4b93-aed0-468f41e3851f",
   "metadata": {},
   "outputs": [],
   "source": [
    "initial_url = \"https://crossroadsleague.com/sports/bsb/2006-07/schedule?jsRendering=true\""
   ]
  },
  {
   "cell_type": "code",
   "execution_count": 10,
   "id": "b8f84288-7a9e-4197-97ac-764e700ad27e",
   "metadata": {
    "editable": true,
    "scrolled": true,
    "slideshow": {
     "slide_type": "slide"
    },
    "tags": []
   },
   "outputs": [],
   "source": [
    "headers = {\n",
    "    \"User-Agent\": \"Chrome/120.0.0.0\",\n",
    "    \"Accept-Language\": \"en-US,en;q=0.9\",\n",
    "    \"Referer\": \"https://crossroadsleague.com/\"\n",
    "}\n",
    "\n",
    "page = requests.get(initial_url, headers=headers).text\n",
    "soup = BeautifulSoup(page, 'html.parser')"
   ]
  },
  {
   "cell_type": "code",
   "execution_count": 11,
   "id": "02360a09-6fb7-459f-8241-f10098f181d8",
   "metadata": {
    "editable": true,
    "slideshow": {
     "slide_type": "slide"
    },
    "tags": []
   },
   "outputs": [],
   "source": [
    "column_headers = ['date', 'team1', 'team2', 'score1', 'score2']\n",
    "df = pd.DataFrame(columns=column_headers)"
   ]
  },
  {
   "cell_type": "markdown",
   "id": "654575d4-450c-4903-a0ab-d35e02481a2e",
   "metadata": {
    "editable": true,
    "slideshow": {
     "slide_type": "slide"
    },
    "tags": []
   },
   "source": [
    "# Scraping Data Across Every Game"
   ]
  },
  {
   "cell_type": "code",
   "execution_count": 12,
   "id": "b8084ea5-261a-4646-afd6-e46e8f027f52",
   "metadata": {
    "editable": true,
    "slideshow": {
     "slide_type": "notes"
    },
    "tags": []
   },
   "outputs": [],
   "source": [
    "urls = [option.get('value') for option in soup.find('select', id='filter-by-season').find_all('option')]"
   ]
  },
  {
   "cell_type": "code",
   "execution_count": 2,
   "id": "a6a7e971-23e9-434c-9a52-95f1fa5288f5",
   "metadata": {
    "editable": true,
    "slideshow": {
     "slide_type": "slide"
    },
    "tags": []
   },
   "outputs": [],
   "source": [
    "def scrape(url):\n",
    "    \n",
    "    page = requests.get(\"https://crossroadsleague.com\" + url, headers=headers).text\n",
    "    \n",
    "    soup = BeautifulSoup(page, 'html.parser')\n",
    "\n",
    "    season = soup.find('div', class_='page-content-header').text.strip().split(' ')[0]\n",
    "    \n",
    "    start_year = None\n",
    "    end_year = None\n",
    "    \n",
    "    if '-' in season:\n",
    "        #start_year = int(season.split('-')[0])\n",
    "        start_year = int(re.split(r'-', season)[0])\n",
    "    else:\n",
    "        end_year = int(season)\n",
    "\n",
    "    # Finding the score results\n",
    "    results = soup.find_all('div', class_='result')\n",
    "    \n",
    "    for result in results:\n",
    "\n",
    "        # Date\n",
    "        day = result.find_parent('div', class_='section-event-date').get('data-date')\n",
    "        month = result.find_parent('div', class_='section-event-month').get('class')[1]\n",
    "\n",
    "        month_num = datetime.strptime(month, \"%B\").month\n",
    "\n",
    "        if month_num >= 8 and start_year:\n",
    "            year = start_year\n",
    "        elif month_num >= 8 and end_year:\n",
    "            year = end_year - 1\n",
    "            \n",
    "        if month_num < 8 and start_year:\n",
    "            year = start_year + 1\n",
    "        elif month_num < 8 and end_year:\n",
    "            year = end_year\n",
    "\n",
    "        date_str = f\"{month} {day} {year}\"\n",
    "        date = datetime.strptime(date_str, \"%B %a. %d %Y\")\n",
    "        \n",
    "        # Team Name\n",
    "        team_name = result.find_all('span', class_='team-name')[0].text.strip()\n",
    "        \n",
    "        # Opponent Name\n",
    "        opponent_name = result.find_all('span', class_='team-name')[1].text.strip()\n",
    "\n",
    "        # Scores\n",
    "        team_score = result.find_all('div', class_='flex-shrink-1')[0].text.strip()\n",
    "        opponent_score = result.find_all('div', class_='flex-shrink-1')[1].text.strip()\n",
    "        \n",
    "        df.loc[len(df)] = [date, team_name, opponent_name, team_score, opponent_score]"
   ]
  },
  {
   "cell_type": "code",
   "execution_count": 14,
   "id": "bc33f1f5-1d46-4bce-92ff-bf3c749f889c",
   "metadata": {
    "scrolled": true
   },
   "outputs": [
    {
     "data": {
      "text/html": [
       "<div>\n",
       "<style scoped>\n",
       "    .dataframe tbody tr th:only-of-type {\n",
       "        vertical-align: middle;\n",
       "    }\n",
       "\n",
       "    .dataframe tbody tr th {\n",
       "        vertical-align: top;\n",
       "    }\n",
       "\n",
       "    .dataframe thead th {\n",
       "        text-align: right;\n",
       "    }\n",
       "</style>\n",
       "<table border=\"1\" class=\"dataframe\">\n",
       "  <thead>\n",
       "    <tr style=\"text-align: right;\">\n",
       "      <th></th>\n",
       "      <th>date</th>\n",
       "      <th>team1</th>\n",
       "      <th>team2</th>\n",
       "      <th>score1</th>\n",
       "      <th>score2</th>\n",
       "    </tr>\n",
       "  </thead>\n",
       "  <tbody>\n",
       "    <tr>\n",
       "      <th>0</th>\n",
       "      <td>2024-09-20</td>\n",
       "      <td>Michigan-Dearborn</td>\n",
       "      <td>Spring Arbor (MI)</td>\n",
       "      <td>5</td>\n",
       "      <td>6</td>\n",
       "    </tr>\n",
       "    <tr>\n",
       "      <th>1</th>\n",
       "      <td>2024-09-20</td>\n",
       "      <td>Michigan-Dearborn</td>\n",
       "      <td>Spring Arbor (MI)</td>\n",
       "      <td>6</td>\n",
       "      <td>15</td>\n",
       "    </tr>\n",
       "    <tr>\n",
       "      <th>2</th>\n",
       "      <td>2024-09-21</td>\n",
       "      <td>Michigan-Dearborn</td>\n",
       "      <td>Spring Arbor (MI)</td>\n",
       "      <td>3</td>\n",
       "      <td>4</td>\n",
       "    </tr>\n",
       "    <tr>\n",
       "      <th>3</th>\n",
       "      <td>2024-09-21</td>\n",
       "      <td>Michigan-Dearborn</td>\n",
       "      <td>Spring Arbor (MI)</td>\n",
       "      <td>0</td>\n",
       "      <td>9</td>\n",
       "    </tr>\n",
       "    <tr>\n",
       "      <th>4</th>\n",
       "      <td>2024-09-27</td>\n",
       "      <td>Bethel (IN)</td>\n",
       "      <td>Michigan-Dearborn</td>\n",
       "      <td>16</td>\n",
       "      <td>3</td>\n",
       "    </tr>\n",
       "    <tr>\n",
       "      <th>...</th>\n",
       "      <td>...</td>\n",
       "      <td>...</td>\n",
       "      <td>...</td>\n",
       "      <td>...</td>\n",
       "      <td>...</td>\n",
       "    </tr>\n",
       "    <tr>\n",
       "      <th>4673</th>\n",
       "      <td>2007-05-16</td>\n",
       "      <td>Mount Vernon Nazarene</td>\n",
       "      <td>Trinity International</td>\n",
       "      <td>3</td>\n",
       "      <td>6</td>\n",
       "    </tr>\n",
       "    <tr>\n",
       "      <th>4674</th>\n",
       "      <td>2007-05-17</td>\n",
       "      <td>St. Ambrose</td>\n",
       "      <td>Spring Arbor</td>\n",
       "      <td>3</td>\n",
       "      <td>11</td>\n",
       "    </tr>\n",
       "    <tr>\n",
       "      <th>4675</th>\n",
       "      <td>2007-05-17</td>\n",
       "      <td>Mount Vernon Nazarene</td>\n",
       "      <td>Trinity Christian</td>\n",
       "      <td>11</td>\n",
       "      <td>3</td>\n",
       "    </tr>\n",
       "    <tr>\n",
       "      <th>4676</th>\n",
       "      <td>2007-05-18</td>\n",
       "      <td>St. Ambrose</td>\n",
       "      <td>Spring Arbor</td>\n",
       "      <td>1</td>\n",
       "      <td>6</td>\n",
       "    </tr>\n",
       "    <tr>\n",
       "      <th>4677</th>\n",
       "      <td>2007-05-18</td>\n",
       "      <td>Faulkner</td>\n",
       "      <td>Mount Vernon Nazarene</td>\n",
       "      <td>5</td>\n",
       "      <td>3</td>\n",
       "    </tr>\n",
       "  </tbody>\n",
       "</table>\n",
       "<p>4678 rows × 5 columns</p>\n",
       "</div>"
      ],
      "text/plain": [
       "           date                  team1                  team2 score1 score2\n",
       "0    2024-09-20      Michigan-Dearborn      Spring Arbor (MI)      5      6\n",
       "1    2024-09-20      Michigan-Dearborn      Spring Arbor (MI)      6     15\n",
       "2    2024-09-21      Michigan-Dearborn      Spring Arbor (MI)      3      4\n",
       "3    2024-09-21      Michigan-Dearborn      Spring Arbor (MI)      0      9\n",
       "4    2024-09-27            Bethel (IN)      Michigan-Dearborn     16      3\n",
       "...         ...                    ...                    ...    ...    ...\n",
       "4673 2007-05-16  Mount Vernon Nazarene  Trinity International      3      6\n",
       "4674 2007-05-17            St. Ambrose           Spring Arbor      3     11\n",
       "4675 2007-05-17  Mount Vernon Nazarene      Trinity Christian     11      3\n",
       "4676 2007-05-18            St. Ambrose           Spring Arbor      1      6\n",
       "4677 2007-05-18               Faulkner  Mount Vernon Nazarene      5      3\n",
       "\n",
       "[4678 rows x 5 columns]"
      ]
     },
     "execution_count": 14,
     "metadata": {},
     "output_type": "execute_result"
    }
   ],
   "source": [
    "for url in urls:\n",
    "    scrape(url)\n",
    "df"
   ]
  },
  {
   "cell_type": "markdown",
   "id": "b86daf56-c8c5-4fc2-9d82-c838b19ffc47",
   "metadata": {},
   "source": [
    "# Clean Dataset"
   ]
  },
  {
   "cell_type": "code",
   "execution_count": 4,
   "id": "96714446-6dbb-49a4-911d-40f635bd04f5",
   "metadata": {},
   "outputs": [],
   "source": [
    "# check for missing values\n",
    "df_clean = pd.read_csv('../data/baseball_games.csv')\n",
    "missing_values = df_clean.isnull().sum()\n",
    "#print(missing_values)\n",
    "\n",
    "#df.info()\n",
    "\n",
    "# change datatype of scores from object to numbers\n",
    "df_clean = df_clean.astype({\n",
    "    'score1': int,\n",
    "    'score2': int\n",
    "})\n",
    "\n",
    "\n",
    "# standardize text data\n",
    "#print(df['team1'].value_counts())\n",
    "df_clean['team1'] = df_clean['team1'].str.lower()\n",
    "df_clean['team2'] = df_clean['team2'].str.lower()\n",
    "\n",
    "same_team = {\n",
    "    'grace' : 'grace (in)',\n",
    "    'goshen' : 'goshen (in)',\n",
    "    'huntington' : 'huntington (in)',\n",
    "    'indiana wesleyan' : 'indiana wesleyan (in)',\n",
    "    'marian' : 'marian (in)',\n",
    "    'mount vernon nazarene' : 'mount vernon nazarene (oh)',\n",
    "    'saint francis (ind.)' : 'saint francis (in)',\n",
    "    'spring arbor' : 'spring arbor (in)',\n",
    "    'taylor' : 'taylor (in)',\n",
    "    'aquinas' : 'aquinas (mi)',\n",
    "    'faulkner' : 'faulkner (al)',\n",
    "    'bryan' : 'bryan (tn)',\n",
    "    'union' : 'union (ky)'\n",
    "}\n",
    "\n",
    "df_clean['team1'] = df_clean['team1'].replace(same_team)\n",
    "df_clean['team2'] = df_clean['team2'].replace(same_team)\n",
    "\n",
    "#df_clean['team2'].value_counts()"
   ]
  },
  {
   "cell_type": "code",
   "execution_count": 5,
   "id": "67227009-03f1-488e-95dd-ae111cb92f47",
   "metadata": {},
   "outputs": [],
   "source": [
    "df_clean = df_clean.sort_values(by='date', ascending=True)\n",
    "df_clean.to_csv('../data/baseball_games.csv', index=False)"
   ]
  },
  {
   "cell_type": "code",
   "execution_count": null,
   "id": "56f696a0-c1a0-402b-b6fd-e6d2d3552caa",
   "metadata": {},
   "outputs": [],
   "source": []
  }
 ],
 "metadata": {
  "kernelspec": {
   "display_name": "Python 3 (ipykernel)",
   "language": "python",
   "name": "python3"
  },
  "language_info": {
   "codemirror_mode": {
    "name": "ipython",
    "version": 3
   },
   "file_extension": ".py",
   "mimetype": "text/x-python",
   "name": "python",
   "nbconvert_exporter": "python",
   "pygments_lexer": "ipython3",
   "version": "3.13.5"
  }
 },
 "nbformat": 4,
 "nbformat_minor": 5
}
